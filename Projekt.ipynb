{
 "cells": [
  {
   "cell_type": "code",
   "execution_count": 1,
   "metadata": {},
   "outputs": [
    {
     "name": "stderr",
     "output_type": "stream",
     "text": [
      "/Library/Frameworks/Python.framework/Versions/3.10/lib/python3.10/site-packages/tqdm/auto.py:21: TqdmWarning: IProgress not found. Please update jupyter and ipywidgets. See https://ipywidgets.readthedocs.io/en/stable/user_install.html\n",
      "  from .autonotebook import tqdm as notebook_tqdm\n"
     ]
    }
   ],
   "source": [
    "import random\n",
    "import numpy as np\n",
    "import pandas as pd\n",
    "import matplotlib.pyplot as plt\n",
    "\n",
    "from nltk.tokenize import word_tokenize\n",
    "from nltk.stem import PorterStemmer\n",
    "\n",
    "import torch\n",
    "import torch.nn as nn\n",
    "import torch.nn.functional as F\n",
    "import torch.autograd as autograd\n",
    "\n",
    "from sklearn.preprocessing import StandardScaler\n",
    "from sklearn.model_selection import train_test_split\n",
    "from sklearn.feature_extraction.text import TfidfVectorizer\n",
    "from sklearn.utils import shuffle\n",
    "from sklearn.metrics import confusion_matrix, ConfusionMatrixDisplay"
   ]
  },
  {
   "cell_type": "markdown",
   "metadata": {},
   "source": [
    "<b> Wczytanie danych i pre-processing</b>"
   ]
  },
  {
   "cell_type": "code",
   "execution_count": 2,
   "metadata": {},
   "outputs": [],
   "source": [
    "with open(\"spam_ham.txt\", \"r\") as f:\n",
    "    data = f.readlines()"
   ]
  },
  {
   "cell_type": "code",
   "execution_count": 3,
   "metadata": {},
   "outputs": [
    {
     "name": "stdout",
     "output_type": "stream",
     "text": [
      "      Category                                               Text\n",
      "0            1  Go until jurong point, crazy.. Available only ...\n",
      "1            1                    Ok lar... Joking wif u oni...\\n\n",
      "2            0  Free entry in 2 a wkly comp to win FA Cup fina...\n",
      "3            1  U dun say so early hor... U c already then say...\n",
      "4            1  Nah I don't think he goes to usf, he lives aro...\n",
      "...        ...                                                ...\n",
      "5569         0  This is the 2nd time we have tried 2 contact u...\n",
      "5570         1             Will ü b going to esplanade fr home?\\n\n",
      "5571         1  Pity, * was in mood for that. So...any other s...\n",
      "5572         1  The guy did some bitching but I acted like i'd...\n",
      "5573         1                       Rofl. Its true to its name\\n\n",
      "\n",
      "[5574 rows x 2 columns]\n",
      "Category breakdown before dataset augmentation:\n",
      "Category\n",
      "0     747\n",
      "1    4827\n",
      "dtype: int64\n"
     ]
    }
   ],
   "source": [
    "#Split i zamiana labelek na 0/1\n",
    "spl = [elem.split(\"\\t\") for elem in data]\n",
    "df = pd.DataFrame(spl, columns=[\"Category\", \"Text\"])\n",
    "df[\"Category\"] = df[\"Category\"].replace({\"spam\": 0, \"ham\": 1})\n",
    "df.head()\n",
    "print(df)\n",
    "print(\"Category breakdown before dataset augmentation:\")\n",
    "print(df.groupby('Category').size())\n"
   ]
  },
  {
   "cell_type": "markdown",
   "metadata": {},
   "source": [
    "<b> Augumentacja zbioru danych do symetrycznej postaci<br/>\n",
    "z wykorzystaniem NLTK, losowania tokenów i stemmingu</b>"
   ]
  },
  {
   "cell_type": "code",
   "execution_count": 4,
   "metadata": {},
   "outputs": [],
   "source": [
    "# Fun\n",
    "def data_augmentation(data: list, how_many: int) -> list:\n",
    "    tokenized = [word_tokenize(text) for text in data]\n",
    "    dummy_data = []\n",
    "    ps = PorterStemmer()\n",
    "    for _ in range(how_many):\n",
    "        mess = random.choice(tokenized)\n",
    "        mess = \" \".join([ps.stem(w) for w in mess])\n",
    "        dummy_data.append(mess)\n",
    "    augmented = data + dummy_data\n",
    "    return augmented"
   ]
  },
  {
   "cell_type": "code",
   "execution_count": 5,
   "metadata": {},
   "outputs": [],
   "source": [
    "ham, spam = len(df[df[\"Category\"] == 1]), len(df[df[\"Category\"] == 0])\n",
    "iters = abs(ham - spam)\n",
    "spams = df[df[\"Category\"] == 0]\n",
    "hams = df[df[\"Category\"] == 1].reset_index(drop=True)\n",
    "texts = [text for text in spams[\"Text\"]]\n",
    "augmented = data_augmentation(texts, iters)\n",
    "new_df = pd.DataFrame([{\"Category\": 0, \"Text\": elem} for elem in augmented])"
   ]
  },
  {
   "cell_type": "code",
   "execution_count": 6,
   "metadata": {},
   "outputs": [
    {
     "name": "stdout",
     "output_type": "stream",
     "text": [
      "      Category                                               Text\n",
      "0            0  you have won ? 1,000 cash or a ? 2,000 prize !...\n",
      "1            1                           I said its okay. Sorry\\n\n",
      "2            1               Is fujitsu s series lifebook good?\\n\n",
      "3            0  final chanc ! claim ur £150 worth of discount ...\n",
      "4            1  Why is that, princess? I bet the brothas are a...\n",
      "...        ...                                                ...\n",
      "9649         1                                Then u drive lor.\\n\n",
      "9650         1                      \"Are you comingdown later?\"\\n\n",
      "9651         1  Let me know if you need anything else. Salad o...\n",
      "9652         1  Hello! Just got here, st andrews-boy its a lon...\n",
      "9653         0  3 free tarot text ! find out about your love l...\n",
      "\n",
      "[9654 rows x 2 columns]\n",
      "Category breakdown after dataset augmentation:\n",
      "Category\n",
      "0    4827\n",
      "1    4827\n",
      "dtype: int64\n"
     ]
    }
   ],
   "source": [
    "aug_df = shuffle(pd.concat([new_df, hams])).reset_index(drop=True)\n",
    "print(aug_df)\n",
    "print(\"Category breakdown after dataset augmentation:\")\n",
    "print(aug_df.groupby('Category').size())\n"
   ]
  },
  {
   "cell_type": "markdown",
   "metadata": {},
   "source": [
    "<b>Podział na dane treningowe i testowe\n",
    "i wektoryzacja z wykorzystaniem TF-IDF</b>"
   ]
  },
  {
   "cell_type": "code",
   "execution_count": 7,
   "metadata": {},
   "outputs": [],
   "source": [
    "x_train, x_test, y_train, y_test = train_test_split(aug_df[\"Text\"], aug_df[\"Category\"],\n",
    "                                                    test_size=.2, random_state=1234)"
   ]
  },
  {
   "cell_type": "code",
   "execution_count": 8,
   "metadata": {},
   "outputs": [],
   "source": [
    "vectorizer = TfidfVectorizer()\n",
    "vectorizer.fit(aug_df[\"Text\"])\n",
    "\n",
    "x_tr_arr = vectorizer.transform(x_train).toarray()\n",
    "\n",
    "x_te_arr = vectorizer.transform(x_test).toarray()\n",
    "\n",
    "y_train = np.array(y_train)\n",
    "y_test = np.array(y_test)"
   ]
  },
  {
   "cell_type": "code",
   "execution_count": 9,
   "metadata": {},
   "outputs": [
    {
     "name": "stdout",
     "output_type": "stream",
     "text": [
      "tensor([[1.],\n",
      "        [1.],\n",
      "        [0.],\n",
      "        ...,\n",
      "        [0.],\n",
      "        [1.],\n",
      "        [1.]])\n"
     ]
    }
   ],
   "source": [
    "X_train = torch.from_numpy(x_tr_arr.astype(np.float32))\n",
    "X_test = torch.from_numpy(x_te_arr.astype(np.float32))\n",
    "y_train = torch.from_numpy(y_train.astype(np.float32))\n",
    "y_test = torch.from_numpy(y_test.astype(np.float32))\n",
    "\n",
    "y_train = y_train.view(y_train.shape[0], 1)\n",
    "y_test = y_test.view(y_test.shape[0], 1)\n",
    "print(y_test)"
   ]
  },
  {
   "cell_type": "markdown",
   "metadata": {},
   "source": [
    "<b>Budowa modelu i trening</b></br></br>\n",
    "Dodatkowo, liczone są metryki na poszczególnych krokach treningu</br>\n",
    "w celu wizualizacji danych na końcowym etapie"
   ]
  },
  {
   "cell_type": "code",
   "execution_count": 10,
   "metadata": {},
   "outputs": [
    {
     "name": "stdout",
     "output_type": "stream",
     "text": [
      "epoch: 1, loss = 0.6929\n",
      "epoch: 1, accuracy: 0.5072\n",
      "epoch: 1, accuracy: 0.5251\n",
      "epoch: 101, loss = 0.6911\n",
      "epoch: 101, accuracy: 0.6650\n",
      "epoch: 101, accuracy: 0.6841\n",
      "epoch: 201, loss = 0.6892\n",
      "epoch: 201, accuracy: 0.8211\n",
      "epoch: 201, accuracy: 0.8229\n",
      "epoch: 301, loss = 0.6873\n",
      "epoch: 301, accuracy: 0.8985\n",
      "epoch: 301, accuracy: 0.8985\n",
      "epoch: 401, loss = 0.6855\n",
      "epoch: 401, accuracy: 0.9314\n",
      "epoch: 401, accuracy: 0.9244\n",
      "epoch: 501, loss = 0.6837\n",
      "epoch: 501, accuracy: 0.9404\n",
      "epoch: 501, accuracy: 0.9347\n",
      "epoch: 601, loss = 0.6818\n",
      "epoch: 601, accuracy: 0.9416\n",
      "epoch: 601, accuracy: 0.9389\n",
      "epoch: 701, loss = 0.6800\n",
      "epoch: 701, accuracy: 0.9437\n",
      "epoch: 701, accuracy: 0.9415\n",
      "epoch: 801, loss = 0.6782\n",
      "epoch: 801, accuracy: 0.9467\n",
      "epoch: 801, accuracy: 0.9430\n",
      "epoch: 901, loss = 0.6764\n",
      "epoch: 901, accuracy: 0.9482\n",
      "epoch: 901, accuracy: 0.9451\n",
      "epoch: 1001, loss = 0.6746\n",
      "epoch: 1001, accuracy: 0.9498\n",
      "epoch: 1001, accuracy: 0.9461\n",
      "epoch: 1101, loss = 0.6728\n",
      "epoch: 1101, accuracy: 0.9507\n",
      "epoch: 1101, accuracy: 0.9472\n",
      "epoch: 1201, loss = 0.6711\n",
      "epoch: 1201, accuracy: 0.9513\n",
      "epoch: 1201, accuracy: 0.9467\n",
      "epoch: 1301, loss = 0.6693\n",
      "epoch: 1301, accuracy: 0.9518\n",
      "epoch: 1301, accuracy: 0.9472\n",
      "epoch: 1401, loss = 0.6675\n",
      "epoch: 1401, accuracy: 0.9531\n",
      "epoch: 1401, accuracy: 0.9487\n",
      "epoch: 1501, loss = 0.6658\n",
      "epoch: 1501, accuracy: 0.9534\n",
      "epoch: 1501, accuracy: 0.9487\n",
      "epoch: 1601, loss = 0.6641\n",
      "epoch: 1601, accuracy: 0.9538\n",
      "epoch: 1601, accuracy: 0.9492\n",
      "epoch: 1701, loss = 0.6623\n",
      "epoch: 1701, accuracy: 0.9535\n",
      "epoch: 1701, accuracy: 0.9487\n",
      "epoch: 1801, loss = 0.6606\n",
      "epoch: 1801, accuracy: 0.9539\n",
      "epoch: 1801, accuracy: 0.9492\n",
      "epoch: 1901, loss = 0.6589\n",
      "epoch: 1901, accuracy: 0.9539\n",
      "epoch: 1901, accuracy: 0.9492\n",
      "epoch: 2001, loss = 0.6572\n",
      "epoch: 2001, accuracy: 0.9548\n",
      "epoch: 2001, accuracy: 0.9492\n",
      "epoch: 2101, loss = 0.6555\n",
      "epoch: 2101, accuracy: 0.9561\n",
      "epoch: 2101, accuracy: 0.9508\n",
      "epoch: 2201, loss = 0.6538\n",
      "epoch: 2201, accuracy: 0.9561\n",
      "epoch: 2201, accuracy: 0.9513\n",
      "epoch: 2301, loss = 0.6521\n",
      "epoch: 2301, accuracy: 0.9564\n",
      "epoch: 2301, accuracy: 0.9513\n",
      "epoch: 2401, loss = 0.6505\n",
      "epoch: 2401, accuracy: 0.9562\n",
      "epoch: 2401, accuracy: 0.9513\n",
      "epoch: 2501, loss = 0.6488\n",
      "epoch: 2501, accuracy: 0.9561\n",
      "epoch: 2501, accuracy: 0.9513\n",
      "epoch: 2601, loss = 0.6472\n",
      "epoch: 2601, accuracy: 0.9562\n",
      "epoch: 2601, accuracy: 0.9518\n",
      "epoch: 2701, loss = 0.6455\n",
      "epoch: 2701, accuracy: 0.9562\n",
      "epoch: 2701, accuracy: 0.9518\n",
      "epoch: 2801, loss = 0.6439\n",
      "epoch: 2801, accuracy: 0.9562\n",
      "epoch: 2801, accuracy: 0.9518\n",
      "epoch: 2901, loss = 0.6422\n",
      "epoch: 2901, accuracy: 0.9562\n",
      "epoch: 2901, accuracy: 0.9518\n",
      "epoch: 3001, loss = 0.6406\n",
      "epoch: 3001, accuracy: 0.9562\n",
      "epoch: 3001, accuracy: 0.9518\n",
      "epoch: 3101, loss = 0.6390\n",
      "epoch: 3101, accuracy: 0.9562\n",
      "epoch: 3101, accuracy: 0.9518\n",
      "epoch: 3201, loss = 0.6374\n",
      "epoch: 3201, accuracy: 0.9573\n",
      "epoch: 3201, accuracy: 0.9529\n",
      "epoch: 3301, loss = 0.6358\n",
      "epoch: 3301, accuracy: 0.9573\n",
      "epoch: 3301, accuracy: 0.9529\n",
      "epoch: 3401, loss = 0.6342\n",
      "epoch: 3401, accuracy: 0.9573\n",
      "epoch: 3401, accuracy: 0.9529\n",
      "epoch: 3501, loss = 0.6326\n",
      "epoch: 3501, accuracy: 0.9575\n",
      "epoch: 3501, accuracy: 0.9534\n",
      "epoch: 3601, loss = 0.6311\n",
      "epoch: 3601, accuracy: 0.9578\n",
      "epoch: 3601, accuracy: 0.9534\n",
      "epoch: 3701, loss = 0.6295\n",
      "epoch: 3701, accuracy: 0.9578\n",
      "epoch: 3701, accuracy: 0.9539\n",
      "epoch: 3801, loss = 0.6280\n",
      "epoch: 3801, accuracy: 0.9578\n",
      "epoch: 3801, accuracy: 0.9539\n",
      "epoch: 3901, loss = 0.6264\n",
      "epoch: 3901, accuracy: 0.9584\n",
      "epoch: 3901, accuracy: 0.9539\n",
      "epoch: 4001, loss = 0.6249\n",
      "epoch: 4001, accuracy: 0.9584\n",
      "epoch: 4001, accuracy: 0.9534\n",
      "epoch: 4101, loss = 0.6233\n",
      "epoch: 4101, accuracy: 0.9584\n",
      "epoch: 4101, accuracy: 0.9534\n",
      "epoch: 4201, loss = 0.6218\n",
      "epoch: 4201, accuracy: 0.9584\n",
      "epoch: 4201, accuracy: 0.9534\n",
      "epoch: 4301, loss = 0.6203\n",
      "epoch: 4301, accuracy: 0.9584\n",
      "epoch: 4301, accuracy: 0.9534\n",
      "epoch: 4401, loss = 0.6188\n",
      "epoch: 4401, accuracy: 0.9584\n",
      "epoch: 4401, accuracy: 0.9534\n",
      "epoch: 4501, loss = 0.6173\n",
      "epoch: 4501, accuracy: 0.9584\n",
      "epoch: 4501, accuracy: 0.9534\n",
      "epoch: 4601, loss = 0.6158\n",
      "epoch: 4601, accuracy: 0.9584\n",
      "epoch: 4601, accuracy: 0.9529\n",
      "epoch: 4701, loss = 0.6143\n",
      "epoch: 4701, accuracy: 0.9583\n",
      "epoch: 4701, accuracy: 0.9529\n",
      "epoch: 4801, loss = 0.6128\n",
      "epoch: 4801, accuracy: 0.9583\n",
      "epoch: 4801, accuracy: 0.9529\n",
      "epoch: 4901, loss = 0.6113\n",
      "epoch: 4901, accuracy: 0.9583\n",
      "epoch: 4901, accuracy: 0.9529\n",
      "epoch: 5001, loss = 0.6098\n",
      "epoch: 5001, accuracy: 0.9584\n",
      "epoch: 5001, accuracy: 0.9529\n"
     ]
    }
   ],
   "source": [
    "class logModel(nn.Module):\n",
    "    def __init__(self, n_features):\n",
    "        super(logModel, self).__init__()\n",
    "        self.linear = nn.Linear(n_features, 1) #tu: y=wx+b\n",
    "        self.sigmoid = nn.Sigmoid()\n",
    "\n",
    "    def forward(self, x):\n",
    "        return self.sigmoid(self.linear(x))\n",
    "\n",
    "model = logModel(n_features=X_train.shape[1])\n",
    "\n",
    "num_epochs = 10001\n",
    "learning_rate = 0.01\n",
    "losses, train_acc, valid_acc = [], [], []\n",
    "epochs = []\n",
    "loss_function = nn.BCELoss()\n",
    "optimizer = torch.optim.SGD(model.parameters(), lr=learning_rate)\n",
    "\n",
    "for epoch in range(num_epochs):\n",
    "\n",
    "    y_pred = model(X_train)\n",
    "    loss = loss_function(y_pred, y_train)\n",
    "\n",
    "    loss.backward()\n",
    "    optimizer.step()\n",
    "\n",
    "    optimizer.zero_grad()\n",
    "\n",
    "\n",
    "    if (epoch) % 100 == 0:\n",
    "        print(f'epoch: {epoch+1}, loss = {loss.item():.4f}')\n",
    "        losses.append(loss.item())\n",
    "        epochs.append(epoch)\n",
    "        with torch.no_grad():\n",
    "            # Calculate train performance metrics\n",
    "            y_predicted = model(X_train)\n",
    "            y_predicted_cls = y_predicted.round()\n",
    "            acc = y_predicted_cls.eq(y_train).sum() / float(y_train.shape[0])\n",
    "            train_acc.append(acc.item())\n",
    "            print(f'epoch: {epoch+1}, accuracy: {acc.item():.4f}')\n",
    "            # Calculate test performance metrics\n",
    "            y_predicted = model(X_test)\n",
    "            y_predicted_cls = y_predicted.round()\n",
    "            acc = y_predicted_cls.eq(y_test).sum() / float(y_test.shape[0])\n",
    "            valid_acc.append(acc.item())\n",
    "            print(f'epoch: {epoch+1}, accuracy: {acc.item():.4f}')"
   ]
  },
  {
   "cell_type": "markdown",
   "metadata": {},
   "source": [
    "Finalna dokładność modelu na wytrenowanym zbiorze testowym:"
   ]
  },
  {
   "cell_type": "code",
   "execution_count": 11,
   "metadata": {},
   "outputs": [
    {
     "name": "stdout",
     "output_type": "stream",
     "text": [
      "Final accuracy: 0.9529\n"
     ]
    }
   ],
   "source": [
    "with torch.no_grad():\n",
    "    y_predicted = model(X_test)\n",
    "    y_predicted_cls = y_predicted.round()\n",
    "    acc = y_predicted_cls.eq(y_test).sum() / float(y_test.shape[0])\n",
    "    print(f'Final accuracy: {acc.item():.4f}')"
   ]
  },
  {
   "cell_type": "markdown",
   "metadata": {},
   "source": [
    "<b>Wygenerowanie wykresów podstawowych metryk do ewaluacji modelu</b>"
   ]
  },
  {
   "cell_type": "code",
   "execution_count": 14,
   "metadata": {},
   "outputs": [
    {
     "data": {
      "image/png": "[encoded data removed]",
      "text/plain": [
       "<Figure size 640x480 with 1 Axes>"
      ]
     },
     "metadata": {},
     "output_type": "display_data"
    },
    {
     "data": {
      "image/png": "[encoded data removed]",
      "text/plain": [
       "<Figure size 640x480 with 1 Axes>"
      ]
     },
     "metadata": {},
     "output_type": "display_data"
    },
    {
     "data": {
      "image/png": "[encoded data removed]",
      "text/plain": [
       "<Figure size 640x480 with 2 Axes>"
      ]
     },
     "metadata": {},
     "output_type": "display_data"
    }
   ],
   "source": [
    "plt.title(\"Loss Curve\")\n",
    "plt.plot(epochs, losses, label=\"Train dataset\")\n",
    "plt.xlabel(\"Epoch number\")\n",
    "plt.ylabel(\"Loss value\")\n",
    "plt.show()\n",
    "\n",
    "plt.title(\"Accuracy Training Curve\")\n",
    "plt.plot(epochs, train_acc, label=\"Train dataset\")\n",
    "plt.plot(epochs, valid_acc, label=\"Validation dataset\")\n",
    "plt.xlabel(\"Epoch number\")\n",
    "plt.ylabel(\"Accuracy\")\n",
    "plt.legend(loc='best')\n",
    "plt.show()\n",
    "\n",
    "def plot_confusion_matrix(y_test, y_predicted):\n",
    "    cm = confusion_matrix(y_test, y_predicted)\n",
    "    disp = ConfusionMatrixDisplay(confusion_matrix=cm)\n",
    "    disp.plot(cmap=plt.cm.Blues)\n",
    "    plt.title('Confusion Matrix')\n",
    "    plt.show()\n",
    "    \n",
    "plot_confusion_matrix(y_predicted_cls.numpy(), y_test.numpy())\n"
   ]
  }
 ],
 "metadata": {
  "kernelspec": {
   "display_name": "Python 3",
   "language": "python",
   "name": "python3"
  },
  "language_info": {
   "codemirror_mode": {
    "name": "ipython",
    "version": 3
   },
   "file_extension": ".py",
   "mimetype": "text/x-python",
   "name": "python",
   "nbconvert_exporter": "python",
   "pygments_lexer": "ipython3",
   "version": "3.10.7"
  }
 },
 "nbformat": 4,
 "nbformat_minor": 2
}
